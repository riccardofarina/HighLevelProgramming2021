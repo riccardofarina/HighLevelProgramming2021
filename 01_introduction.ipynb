{
 "cells": [
  {
   "cell_type": "markdown",
   "metadata": {},
   "source": [
    "Check online documentation on jupyter [here](http://nbviewer.jupyter.org/urls/bitbucket.org/ipre/calico/raw/master/notebooks/Documentation/Reference%20Guide/Reference%20Guide.ipynb)"
   ]
  },
  {
   "cell_type": "code",
   "execution_count": 1,
   "metadata": {},
   "outputs": [
    {
     "name": "stdout",
     "output_type": "stream",
     "text": [
      "this is python, programming is fun again\n"
     ]
    }
   ],
   "source": [
    "print(\"this is python, programming is fun again\")"
   ]
  },
  {
   "cell_type": "markdown",
   "metadata": {},
   "source": [
    "## Variables"
   ]
  },
  {
   "cell_type": "code",
   "execution_count": 7,
   "metadata": {
    "scrolled": false
   },
   "outputs": [
    {
     "name": "stdout",
     "output_type": "stream",
     "text": [
      "2\n"
     ]
    },
    {
     "data": {
      "text/plain": [
       "int"
      ]
     },
     "execution_count": 7,
     "metadata": {},
     "output_type": "execute_result"
    }
   ],
   "source": [
    "# This b.t.w is a comment\n",
    "\n",
    "variable = 2\n",
    "print(variable)\n",
    "type(variable) #Mostra il tipo di output"
   ]
  },
  {
   "cell_type": "markdown",
   "metadata": {},
   "source": [
    "the function `print` allows also more powerful way of outputting numbers:"
   ]
  },
  {
   "cell_type": "code",
   "execution_count": 33,
   "metadata": {},
   "outputs": [
    {
     "name": "stdout",
     "output_type": "stream",
     "text": [
      "Art:    453, Price per unit:    59.06\n"
     ]
    }
   ],
   "source": [
    "print(\"Art: %6d, Price per unit: %8.2f\" % (453, 59.058))\n",
    "# dopo il % c'e il numero di caratteri, d for integer, f for float.\n",
    "# %10.2f = scrive float con 10 caratteri, 2 dopo la virgola"
   ]
  },
  {
   "cell_type": "code",
   "execution_count": 37,
   "metadata": {},
   "outputs": [
    {
     "name": "stdout",
     "output_type": "stream",
     "text": [
      "5 ok\n"
     ]
    }
   ],
   "source": [
    "a, b = 5, \"ok\" #multiple assignment\n",
    "print(a,b)"
   ]
  },
  {
   "cell_type": "markdown",
   "metadata": {},
   "source": [
    "try to sum a and b; if it doesn't work, cast one of the two and repeat"
   ]
  },
  {
   "cell_type": "code",
   "execution_count": 43,
   "metadata": {},
   "outputs": [
    {
     "name": "stdout",
     "output_type": "stream",
     "text": [
      "7 7 7\n"
     ]
    }
   ],
   "source": [
    "x = y = z = 7 #multiple assignment same value\n",
    "print(x, y, z)"
   ]
  },
  {
   "cell_type": "markdown",
   "metadata": {},
   "source": [
    "what if you reassign one of the three (say $y$)?"
   ]
  },
  {
   "cell_type": "code",
   "execution_count": null,
   "metadata": {},
   "outputs": [],
   "source": [
    "# can set values from command line as well (rarely used)\n",
    "x = input(\"set the value of x\")\n",
    "print(x)"
   ]
  },
  {
   "cell_type": "markdown",
   "metadata": {},
   "source": [
    "### Pointers in Python? \n",
    "\n",
    "\n",
    "Pointers are widely used in C and C++. Essentially, they are variables that hold the memory address of another variable.  Are there pointers in python? Essentially no.\n",
    "Pointers go against the [Zen of Python](https://www.python.org/dev/peps/pep-0020/#id3):\n",
    "\n",
    "*Pointers encourage implicit changes rather than explicit. Often, they are complex instead of simple, especially for beginners. Even worse, they beg for ways to shoot yourself in the foot, or do something really dangerous like read from a section of memory you were not supposed to.Python tends to try to abstract away implementation details like memory addresses from its users. Python often focuses on usability instead of speed. As a result, pointers in Python doesn’t really make sense.*\n",
    "\n",
    "### Mutable vs Immutable\n",
    "Le variabili in python (tranne alcune tra cui le string, list) sono immutabili.\n",
    "\n",
    "Quando si definisce una variabile python crea una PyObject con type, value, reference count (numero di variabili che puntano a quell'oggetto). Quando si fa l'update di una variabile, python crea direttamente un nuovo oggetto e cancella quello vecchio. I nomi delle variabili sono solo dei \"titoli\" dati agli oggetti\n",
    "\n",
    "For more details about all this refer e.g. to [this review](https://realpython.com/pointers-in-python/)\n"
   ]
  },
  {
   "cell_type": "code",
   "execution_count": 1,
   "metadata": {},
   "outputs": [
    {
     "data": {
      "text/plain": [
       "4378591472"
      ]
     },
     "execution_count": 1,
     "metadata": {},
     "output_type": "execute_result"
    }
   ],
   "source": [
    "x = 1\n",
    "id(x) #memory address"
   ]
  },
  {
   "cell_type": "markdown",
   "metadata": {},
   "source": [
    "Le liste sono mutable, quindi modificando un elemento non si cancella l'intera lista"
   ]
  },
  {
   "cell_type": "markdown",
   "metadata": {},
   "source": [
    "## Operators"
   ]
  },
  {
   "cell_type": "code",
   "execution_count": 58,
   "metadata": {},
   "outputs": [
    {
     "name": "stdout",
     "output_type": "stream",
     "text": [
      "0.75\n",
      "1\n",
      "0\n",
      "81\n",
      "81\n",
      "<class 'int'>\n",
      "<class 'float'>\n"
     ]
    }
   ],
   "source": [
    "print(3 / 4)  #converte automaticamente in float\n",
    "print(3 % 2)  #modulo, resto della divisione\n",
    "print(3 // 4) #quoziente, divisione intera\n",
    "print(3**4)   #elevamento a potenza\n",
    "print(pow(3, 4))\n",
    "\n",
    "x = 1\n",
    "print(type(x))\n",
    "y = 1.0\n",
    "print(type(y))"
   ]
  },
  {
   "cell_type": "markdown",
   "metadata": {},
   "source": [
    "## Iterators\n",
    "very similar to all other languages. Start exploring the `range` and `enumerate` functions\n",
    "\n",
    "`range(1,10,2)` crea una lista di numeri da 1 (incluso) a 10 (escluso) ogni 2"
   ]
  },
  {
   "cell_type": "code",
   "execution_count": 74,
   "metadata": {},
   "outputs": [
    {
     "name": "stdout",
     "output_type": "stream",
     "text": [
      "1\n",
      "3\n",
      "5\n",
      "7\n",
      "9\n"
     ]
    }
   ],
   "source": [
    "for i in range(1,10,2): \n",
    "    print (i)\n",
    "    #istruction 2 ...\n",
    "#fuori dal loop    "
   ]
  },
  {
   "cell_type": "code",
   "execution_count": 75,
   "metadata": {},
   "outputs": [
    {
     "name": "stdout",
     "output_type": "stream",
     "text": [
      "1\n",
      "2\n",
      "3\n",
      "4\n",
      "5\n",
      "6\n",
      "7\n",
      "8\n",
      "9\n"
     ]
    }
   ],
   "source": [
    "i = 1\n",
    "while i < 10:\n",
    "    print(i)\n",
    "    i+=1\n",
    "    \n",
    "#NOTA: l'indentazione conta come le parentesi!"
   ]
  },
  {
   "cell_type": "code",
   "execution_count": 101,
   "metadata": {},
   "outputs": [
    {
     "name": "stdout",
     "output_type": "stream",
     "text": [
      "indice i=0 corrispondente all'elemento j=4 della lista\n",
      "indice i=1 corrispondente all'elemento j=5 della lista\n",
      "indice i=2 corrispondente all'elemento j=2 della lista\n",
      "indice i=3 corrispondente all'elemento j=7 della lista\n"
     ]
    }
   ],
   "source": [
    "for i, j in enumerate([4,5,2,7]): \n",
    "    print(\"indice i=%1d corrispondente all'elemento j=%1d della lista\" % (i,j)) \n",
    "#enumerate indicizza una lista o vettore, e permette di creare loop sui vettori. j e l'equivalente di x[i]"
   ]
  },
  {
   "cell_type": "markdown",
   "metadata": {},
   "source": [
    "## Conditional Statements\n",
    "Mind the indentation! "
   ]
  },
  {
   "cell_type": "code",
   "execution_count": 92,
   "metadata": {},
   "outputs": [
    {
     "name": "stdout",
     "output_type": "stream",
     "text": [
      "elif, -> else if\n"
     ]
    }
   ],
   "source": [
    "a = 21\n",
    "if a >= 22: \n",
    "    print(\"se a>22, allora siamo qui\")\n",
    "elif a >= 21:\n",
    "    print(\"elif, -> else if\")\n",
    "else:\n",
    "    print(\"altrimenti\")"
   ]
  },
  {
   "cell_type": "markdown",
   "metadata": {},
   "source": [
    "try/except: per operazioni rischiose, prevenendo il crash del programma"
   ]
  },
  {
   "cell_type": "code",
   "execution_count": 102,
   "metadata": {},
   "outputs": [
    {
     "name": "stdout",
     "output_type": "stream",
     "text": [
      "ciao is not a number\n"
     ]
    }
   ],
   "source": [
    "a = \"ciao\"\n",
    "try:\n",
    "    b = a + 2 #example, dangerous operation\n",
    "    print (b)\n",
    "except:\n",
    "    print(a, \"is not a number\")"
   ]
  },
  {
   "cell_type": "markdown",
   "metadata": {},
   "source": [
    "# Functions"
   ]
  },
  {
   "cell_type": "code",
   "execution_count": 109,
   "metadata": {},
   "outputs": [
    {
     "data": {
      "text/plain": [
       "7"
      ]
     },
     "execution_count": 109,
     "metadata": {},
     "output_type": "execute_result"
    }
   ],
   "source": [
    "def my_function(a, b=2): #b e un default argument\n",
    "    y = a + 2 * b\n",
    "    return y\n",
    "\n",
    "my_function(3)"
   ]
  },
  {
   "cell_type": "markdown",
   "metadata": {},
   "source": [
    "Notice that the function does not specify the types of the arguments, like you would see in statically typed languages. This is both useful and dangerous. Use the try/except construction to make it safe"
   ]
  },
  {
   "cell_type": "markdown",
   "metadata": {},
   "source": [
    "### Global and Local variables\n",
    "Le variabili interne alle funzioni sono solitamente locali, a meno che non diversamente specificato"
   ]
  },
  {
   "cell_type": "code",
   "execution_count": 121,
   "metadata": {},
   "outputs": [
    {
     "name": "stdout",
     "output_type": "stream",
     "text": [
      "Python is fantastic inside the myfunc\n",
      "Python is awesome outside\n"
     ]
    }
   ],
   "source": [
    "#In questo caso x e una variabile locale, creata e distrutta all'interno della funzione\n",
    "x = \"awesome\"\n",
    "\n",
    "def myfunc():\n",
    "    x = \"fantastic\"\n",
    "    print(\"Python is \" + x + \" inside the myfunc\")\n",
    "    \n",
    "myfunc()\n",
    "\n",
    "print(\"Python is \" + x + \" outside\")"
   ]
  },
  {
   "cell_type": "code",
   "execution_count": 122,
   "metadata": {},
   "outputs": [
    {
     "name": "stdout",
     "output_type": "stream",
     "text": [
      "Python is fantastic, even outside the function\n"
     ]
    }
   ],
   "source": [
    "#Con global si indica la variabile esterna, globale\n",
    "x = \"awesome\"\n",
    "\n",
    "def myfunc():\n",
    "    global x \n",
    "    x = \"fantastic\"\n",
    "\n",
    "myfunc()\n",
    "\n",
    "print(\"Python is \" + x + \", even outside the function\")"
   ]
  },
  {
   "cell_type": "markdown",
   "metadata": {},
   "source": [
    "# Lists, Tuples, Dictionaries"
   ]
  },
  {
   "cell_type": "markdown",
   "metadata": {},
   "source": [
    "## Lists\n",
    "Lists are lists of objects. The objects can be any data type (including lists), and it is allowed to mix data types. \n",
    "\n",
    "Sono i vecchi \"vettori\", generalizzati.\n",
    "It is possible to append, delete, insert and count elements and to sort, reverse, etc. the list.\n"
   ]
  },
  {
   "cell_type": "code",
   "execution_count": 134,
   "metadata": {},
   "outputs": [
    {
     "name": "stdout",
     "output_type": "stream",
     "text": [
      "['A', 'B', 'F', 'G', 'd', 'x', 'c', [1, 2, 3, 'this is a string', 5.3], 3]\n"
     ]
    }
   ],
   "source": [
    "a_list = [1, 2, 3, \"this is a string\", 5.3] #tipi diversi di datas\n",
    "b_list = [\"A\", \"B\", \"F\", \"G\", \"d\", \"x\", \"c\", a_list, 3] #lista dentro un'altra lista\n",
    "print(b_list)\n",
    "\n",
    "#NOTA: le liste partono da 0!"
   ]
  },
  {
   "cell_type": "markdown",
   "metadata": {},
   "source": [
    "Manipulations of list is rather intuitive"
   ]
  },
  {
   "cell_type": "code",
   "execution_count": 169,
   "metadata": {},
   "outputs": [
    {
     "name": "stdout",
     "output_type": "stream",
     "text": [
      "a\n",
      "e\n",
      "['c', 'd']\n",
      "['a', 'b', 'c']\n",
      "['d', 'e']\n",
      "['b', 'c', 'd', 'e']\n",
      "['c', 'd', 'e']\n",
      "['b', 'd']\n"
     ]
    }
   ],
   "source": [
    "a = [\"a\", \"b\", \"c\", \"d\", \"e\"]\n",
    "print(a[0]) \n",
    "print(a[-1]) #elemento 1 a partire dall'ultimo\n",
    "print(a[2:4]) #dall'elemento 2 (terzo) al 4 (quinto) escluso\n",
    "print(a[:3]) #primi 3 elementi della lista\n",
    "print(a[3:]) #da elemento 3 (quarto) elemento alla fine\n",
    "print(a[-4:]) #gli ultimi 4 elementi della lista\n",
    "print(a[2:len(a)]) #dall'elemento 3 alla fine della lista\n",
    "print(a[1::2]) #prendi un valore partendo dal secondo (1) e ogni 2"
   ]
  },
  {
   "cell_type": "markdown",
   "metadata": {},
   "source": [
    "Operations on lists are also straightforward:"
   ]
  },
  {
   "cell_type": "code",
   "execution_count": 192,
   "metadata": {},
   "outputs": [
    {
     "name": "stdout",
     "output_type": "stream",
     "text": [
      "[0, 1, 5, 2, 3, 4]\n",
      "[0, 1, 5, 2, 3, 4, 8]\n",
      "[8, 4, 3, 2, 5, 1, 0] reversed\n",
      "[0, 1, 2, 3, 4, 5, 8] sorted\n",
      "[0, 1, 2, 3, 4, 5] pop last element\n",
      "[0, 1, 2, 4, 5]\n",
      "[0, 1, 2, 4]\n"
     ]
    }
   ],
   "source": [
    "a = [1,5,2,3,4]\n",
    "a.insert(0, 0) #inserisci in position, value\n",
    "print(a)\n",
    "a.append(8) #appendi alla fine\n",
    "print(a)\n",
    "a.reverse() #inverte l'ordine\n",
    "print(a, \"reversed\")\n",
    "a.sort() #sort in ordine crescente\n",
    "print(a, \"sorted\")\n",
    "a.pop() #rimuove ultimo elemento\n",
    "print(a, \"pop last element\")\n",
    "a.remove(3) # rimuove il 3\n",
    "print(a)\n",
    "a.remove(a[4]) #rimuove l'elemento 4\n",
    "print(a)"
   ]
  },
  {
   "cell_type": "markdown",
   "metadata": {},
   "source": [
    "### List comprehensions\n",
    "Very fancy operations are possibile (known as list [comprehensions](https://docs.python.org/2/tutorial/datastructures.html?highlight=comprehensions))"
   ]
  },
  {
   "cell_type": "code",
   "execution_count": 217,
   "metadata": {},
   "outputs": [
    {
     "name": "stdout",
     "output_type": "stream",
     "text": [
      "[0, 1, 2, 3, 4, 5, 6, 7, 8, 9, 10, 11, 12, 13, 14, 15, 16, 17, 18, 19]\n",
      "[0, 2, 4, 6, 8, 10, 12, 14, 16, 18]\n"
     ]
    }
   ],
   "source": [
    "#Crea lista prendendo tutti i numeri in range(0,20), se soddisfano il criterio\n",
    "even_numbers = [x for x in range(20) if x % 2 == 0] #numeri pari in 0,20\n",
    "all_numbers = [x for x in range(20)] #numeri pari in 0,20\n",
    "\n",
    "print(all_numbers)\n",
    "print(even_numbers)\n",
    "\n",
    "#equivalente a\n",
    "#a=[]\n",
    "#for i in range(20):\n",
    "#    if i % 2 == 0:\n",
    "#        a.append(x)        \n",
    "#print(a)"
   ]
  },
  {
   "cell_type": "markdown",
   "metadata": {},
   "source": [
    "Altri esempi di list comprehension"
   ]
  },
  {
   "cell_type": "code",
   "execution_count": 10,
   "metadata": {},
   "outputs": [
    {
     "data": {
      "text/plain": [
       "{0: 'hello world',\n",
       " 1: 'hello world',\n",
       " 2: 'hello world',\n",
       " 3: 'hello world',\n",
       " 4: 'hello world',\n",
       " 5: 'hello world',\n",
       " 6: 'hello world',\n",
       " 7: 'hello world',\n",
       " 8: 'hello world',\n",
       " 9: 'hello world'}"
      ]
     },
     "execution_count": 10,
     "metadata": {},
     "output_type": "execute_result"
    }
   ],
   "source": [
    "#List comprehension\n",
    "[x for x in range(10)]\n",
    "\n",
    "#Set comprehension\n",
    "{x for x in range(10)}\n",
    "\n",
    "#Dictionary comprehension\n",
    "{x:\"hello world\" for x in range(10)}\n"
   ]
  },
  {
   "cell_type": "markdown",
   "metadata": {},
   "source": [
    "strings are lists and feature all operations permitted on strings, comprehensions as well"
   ]
  },
  {
   "cell_type": "code",
   "execution_count": 213,
   "metadata": {},
   "outputs": [
    {
     "name": "stdout",
     "output_type": "stream",
     "text": [
      "['I', 't', ' ', 'w', 'a', 's', ' ', 'a', ' ', 'd', 'a', 'r', 'k', ' ', 'a', 'n', 'd', ' ', 's', 't', 'o', 'r', 'm', 'y', ' ', 'n', 'i', 'g', 'h', 't', '.']\n"
     ]
    }
   ],
   "source": [
    "first_sentence = \"It was a dark and stormy night.\"\n",
    "characters = [x for x in first_sentence] #prende carattere per carattere\n",
    "print(characters)"
   ]
  },
  {
   "cell_type": "markdown",
   "metadata": {},
   "source": [
    "the opposite is also possible, but in a different way:"
   ]
  },
  {
   "cell_type": "code",
   "execution_count": 234,
   "metadata": {},
   "outputs": [
    {
     "name": "stdout",
     "output_type": "stream",
     "text": [
      "c|i|a|o\n"
     ]
    }
   ],
   "source": [
    "chars_list = ['c','i','a','o']\n",
    "frase='|'.join(chars_list) #joint to build a string from list of character. Il carattere iniziale '' e quello da mettere in mezzo\n",
    "print(frase)"
   ]
  },
  {
   "cell_type": "markdown",
   "metadata": {},
   "source": [
    "### Strings and String Handling\n",
    "One of the most important features of Python is its powerful and easy handling of strings. Defining strings is simple enough in most languages. But in Python, it is easy to search and replace, convert cases, concatenate, or access elements. We’ll discuss a few of these here. For a complete list, see this [tutorial]( http://www.tutorialspoint.com/python/python_strings.htm)"
   ]
  },
  {
   "cell_type": "code",
   "execution_count": 240,
   "metadata": {},
   "outputs": [
    {
     "name": "stdout",
     "output_type": "stream",
     "text": [
      "Ciao\n",
      "Riccardo,\t 5.00\n"
     ]
    }
   ],
   "source": [
    "a = \"Ciao\"\n",
    "b = 5.0\n",
    "newstring = a + \"\\nRiccardo,\\t %.2f\" #spazio per numero, con due cifre decimali\n",
    "print(newstring % b)\n",
    "\n",
    "#usare \\n per andate a capo, \\t per tabulation"
   ]
  },
  {
   "cell_type": "markdown",
   "metadata": {},
   "source": [
    "Operations are easy (remember strings are lists!)"
   ]
  },
  {
   "cell_type": "code",
   "execution_count": 241,
   "metadata": {},
   "outputs": [
    {
     "name": "stdout",
     "output_type": "stream",
     "text": [
      "BC\n",
      "ABC D\n"
     ]
    }
   ],
   "source": [
    "a = \"ABC DEFG\"\n",
    "print(a[1:3])\n",
    "print(a[0:5])"
   ]
  },
  {
   "cell_type": "code",
   "execution_count": 256,
   "metadata": {},
   "outputs": [
    {
     "name": "stdout",
     "output_type": "stream",
     "text": [
      "abc defg\n",
      "ABC DEFG\n",
      "4\n",
      "ABC afg\n"
     ]
    },
    {
     "data": {
      "text/plain": [
       "5"
      ]
     },
     "execution_count": 256,
     "metadata": {},
     "output_type": "execute_result"
    }
   ],
   "source": [
    "#NOTA: non sostituiscono la stringa, bisogna salvarla in una nuova variabile\n",
    "a = \"ABC defg\"\n",
    "print(a.lower())\n",
    "print(a.upper())\n",
    "print(a.find('d')) #restituisce posizione nella stringa\n",
    "print(a.replace('de', 'a')) #sostituisce \"d\" con \"a\"\n",
    "\n",
    "b=a.replace('de', 'aaaaa')\n",
    "b.count('a') #conta quante 'a' ci sono"
   ]
  },
  {
   "cell_type": "markdown",
   "metadata": {},
   "source": [
    "## Tuples\n",
    "Tuples sono liste non modificabili"
   ]
  },
  {
   "cell_type": "code",
   "execution_count": 261,
   "metadata": {},
   "outputs": [
    {
     "name": "stdout",
     "output_type": "stream",
     "text": [
      "(1, 2, 3, 4)\n"
     ]
    },
    {
     "ename": "TypeError",
     "evalue": "'tuple' object does not support item assignment",
     "output_type": "error",
     "traceback": [
      "\u001b[0;31m---------------------------------------------------------------------------\u001b[0m",
      "\u001b[0;31mTypeError\u001b[0m                                 Traceback (most recent call last)",
      "\u001b[0;32m/var/folders/rf/c7fb_3hd10b659157ch0p2_h0000gn/T/ipykernel_3294/4172577350.py\u001b[0m in \u001b[0;36m<module>\u001b[0;34m\u001b[0m\n\u001b[1;32m      1\u001b[0m \u001b[0ma\u001b[0m \u001b[0;34m=\u001b[0m \u001b[0;34m(\u001b[0m\u001b[0;36m1\u001b[0m\u001b[0;34m,\u001b[0m \u001b[0;36m2\u001b[0m\u001b[0;34m,\u001b[0m \u001b[0;36m3\u001b[0m\u001b[0;34m,\u001b[0m \u001b[0;36m4\u001b[0m\u001b[0;34m)\u001b[0m \u001b[0;31m#liste con [], tuples con ()\u001b[0m\u001b[0;34m\u001b[0m\u001b[0;34m\u001b[0m\u001b[0m\n\u001b[1;32m      2\u001b[0m \u001b[0mprint\u001b[0m\u001b[0;34m(\u001b[0m\u001b[0ma\u001b[0m\u001b[0;34m)\u001b[0m\u001b[0;34m\u001b[0m\u001b[0;34m\u001b[0m\u001b[0m\n\u001b[0;32m----> 3\u001b[0;31m \u001b[0ma\u001b[0m\u001b[0;34m[\u001b[0m\u001b[0;36m1\u001b[0m\u001b[0;34m]\u001b[0m \u001b[0;34m=\u001b[0m \u001b[0;36m2\u001b[0m \u001b[0;31m#errore, non modificabile\u001b[0m\u001b[0;34m\u001b[0m\u001b[0;34m\u001b[0m\u001b[0m\n\u001b[0m",
      "\u001b[0;31mTypeError\u001b[0m: 'tuple' object does not support item assignment"
     ]
    }
   ],
   "source": [
    "a = (1, 2, 3, 4) #liste con [], tuples con ()\n",
    "print(a)\n",
    "a[1] = 2 #errore, non modificabile"
   ]
  },
  {
   "cell_type": "markdown",
   "metadata": {},
   "source": [
    "## Dictionaries\n",
    "Dictionaries sono keyed lists, cioe liste il cui indice puo essere scelto. Una lista sarebbe un dictionary con key pari all'indice 0,1,2,3..."
   ]
  },
  {
   "cell_type": "code",
   "execution_count": 2,
   "metadata": {},
   "outputs": [
    {
     "name": "stdout",
     "output_type": "stream",
     "text": [
      "A\n"
     ]
    }
   ],
   "source": [
    "a = {'anItem' : \"A\", 'anotherItem' : [\"a\",\"bc\"], 3 : \"C\", 'afourthItem' : 7} # dictionary example\n",
    "print(a['anItem'])"
   ]
  },
  {
   "cell_type": "code",
   "execution_count": 267,
   "metadata": {
    "scrolled": true
   },
   "outputs": [
    {
     "name": "stdout",
     "output_type": "stream",
     "text": [
      "anItem A\n",
      "anotherItem ['a', 'bc']\n",
      "3 C\n",
      "afourthItem 7\n"
     ]
    }
   ],
   "source": [
    "for i in a: print(i, a[i]) #Print di tutto il dictionary"
   ]
  },
  {
   "cell_type": "code",
   "execution_count": 269,
   "metadata": {},
   "outputs": [
    {
     "name": "stdout",
     "output_type": "stream",
     "text": [
      "Keys: dict_keys(['anItem', 'anotherItem', 3, 'afourthItem'])\n",
      "Values: dict_values(['A', ['a', 'bc'], 'C', 7])\n"
     ]
    }
   ],
   "source": [
    "#keys e values of the dictionary\n",
    "print(\"Keys:\", a.keys()) \n",
    "print(\"Values:\", a.values())"
   ]
  },
  {
   "cell_type": "markdown",
   "metadata": {},
   "source": [
    "## Sets"
   ]
  },
  {
   "cell_type": "markdown",
   "metadata": {},
   "source": [
    "Sono unordered lists che non supportano duplicati"
   ]
  },
  {
   "cell_type": "code",
   "execution_count": 280,
   "metadata": {},
   "outputs": [
    {
     "name": "stdout",
     "output_type": "stream",
     "text": [
      "{'cherry', 2, 'apple'}\n"
     ]
    }
   ],
   "source": [
    "a = {\"apple\", \"apple\", \"cherry\", 2,2}\n",
    "print(a)"
   ]
  },
  {
   "cell_type": "code",
   "execution_count": 273,
   "metadata": {},
   "outputs": [
    {
     "ename": "TypeError",
     "evalue": "'set' object is not subscriptable",
     "output_type": "error",
     "traceback": [
      "\u001b[0;31m---------------------------------------------------------------------------\u001b[0m",
      "\u001b[0;31mTypeError\u001b[0m                                 Traceback (most recent call last)",
      "\u001b[0;32m/var/folders/rf/c7fb_3hd10b659157ch0p2_h0000gn/T/ipykernel_3294/2037754872.py\u001b[0m in \u001b[0;36m<module>\u001b[0;34m\u001b[0m\n\u001b[0;32m----> 1\u001b[0;31m \u001b[0mprint\u001b[0m\u001b[0;34m(\u001b[0m\u001b[0ma\u001b[0m\u001b[0;34m[\u001b[0m\u001b[0;36m1\u001b[0m\u001b[0;34m]\u001b[0m\u001b[0;34m)\u001b[0m \u001b[0;31m#errore, non si puo accedere all'elemento i-esimo si un set\u001b[0m\u001b[0;34m\u001b[0m\u001b[0;34m\u001b[0m\u001b[0m\n\u001b[0m",
      "\u001b[0;31mTypeError\u001b[0m: 'set' object is not subscriptable"
     ]
    }
   ],
   "source": [
    "print(a[1]) #errore, non si puo accedere all'elemento i-esimo si un set"
   ]
  },
  {
   "cell_type": "code",
   "execution_count": 282,
   "metadata": {},
   "outputs": [
    {
     "name": "stdout",
     "output_type": "stream",
     "text": [
      "{2, 3, 7, 'banana', 'cherry', 'apple'}\n",
      "{2, 3, 7, 'banana', 'cherry', 'apple'}\n"
     ]
    }
   ],
   "source": [
    "a.add(3) #aggiunge elemento al set a\n",
    "print(a)\n",
    "a.update({7, \"banana\"}) #unisci due set, sempre senza duplicati\n",
    "print(a)"
   ]
  }
 ],
 "metadata": {
  "kernelspec": {
   "display_name": "Python 3 (ipykernel)",
   "language": "python",
   "name": "python3"
  },
  "language_info": {
   "codemirror_mode": {
    "name": "ipython",
    "version": 3
   },
   "file_extension": ".py",
   "mimetype": "text/x-python",
   "name": "python",
   "nbconvert_exporter": "python",
   "pygments_lexer": "ipython3",
   "version": "3.10.0"
  }
 },
 "nbformat": 4,
 "nbformat_minor": 2
}
