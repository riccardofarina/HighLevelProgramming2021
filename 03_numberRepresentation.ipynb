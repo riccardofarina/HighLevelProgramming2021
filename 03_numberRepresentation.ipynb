{
 "cells": [
  {
   "cell_type": "markdown",
   "metadata": {},
   "source": [
    "# Integers\n",
    "In Python3 gli integer possono essere arbitrariamente grandi, precisione illiminata.\n",
    "In Python2 hanno la precisione del sistema, es 64bit"
   ]
  },
  {
   "cell_type": "code",
   "execution_count": 12,
   "metadata": {},
   "outputs": [
    {
     "name": "stdout",
     "output_type": "stream",
     "text": [
      "9223372036854775807\n",
      "9223372036854775808\n"
     ]
    }
   ],
   "source": [
    "# Max integer per un sistema a 64 bit, 2^63-1\n",
    "import sys\n",
    "print(sys.maxsize)\n",
    "\n",
    "# Python3: integer illimitati\n",
    "maxint = sys.maxsize+1\n",
    "print(maxint)"
   ]
  },
  {
   "cell_type": "markdown",
   "metadata": {},
   "source": [
    "Python trasforma automaticamente int in float se serve"
   ]
  },
  {
   "cell_type": "code",
   "execution_count": 23,
   "metadata": {},
   "outputs": [
    {
     "name": "stdout",
     "output_type": "stream",
     "text": [
      "0.6666666666666666\n"
     ]
    }
   ],
   "source": [
    "print(2/3)"
   ]
  },
  {
   "cell_type": "markdown",
   "metadata": {},
   "source": [
    "## Binary and Hexadecimal representations"
   ]
  },
  {
   "cell_type": "markdown",
   "metadata": {},
   "source": [
    "La conversione in binario (o in altre basi) segue la formula\n",
    "\n",
    "$$d = (-1)^j\\sum_{i=0}^{N} \\alpha_i ~ b^i$$\n",
    "\n",
    "dove $j$ e il bit per il segno e b=2 per il binario\n",
    "\n",
    "\n",
    "|  j | 2^4 | 2^3 | 2^2 | 2^1 | 2^0 |\n",
    "|---|---|---|---|---|---|\n",
    "|  0 | 1 | 0 | 1 | 1 | 1  |\n",
    "\n",
    "-> 1+2+4+16=+23\n"
   ]
  },
  {
   "cell_type": "code",
   "execution_count": 32,
   "metadata": {},
   "outputs": [
    {
     "name": "stdout",
     "output_type": "stream",
     "text": [
      "0b11110\n",
      "0x1e\n",
      "Decimal representation of 0b11110 : 30\n",
      "Decimal representation of 0x1e : 30\n"
     ]
    }
   ],
   "source": [
    "a = 30\n",
    "\n",
    "# Binario e hexadecimal\n",
    "a_bin = bin(a)\n",
    "a_hex = hex(a)\n",
    "\n",
    "\n",
    "print(a_bin)\n",
    "print(a_hex)\n",
    "\n",
    "# conversione in integer\n",
    "print('Decimal representation of', a_bin, ':', int(a_bin, 2))\n",
    "print('Decimal representation of', a_hex, ':', int(a_hex, 16))"
   ]
  },
  {
   "cell_type": "markdown",
   "metadata": {},
   "source": [
    "`float.hex()` converte i float in esadecimale"
   ]
  },
  {
   "cell_type": "code",
   "execution_count": 86,
   "metadata": {},
   "outputs": [
    {
     "name": "stdout",
     "output_type": "stream",
     "text": [
      "3.141592653589793\n",
      "0x1.921fb54442d18p+1\n"
     ]
    }
   ],
   "source": [
    "from math import pi as pi\n",
    "print(pi)\n",
    "print(pi.hex())"
   ]
  },
  {
   "cell_type": "markdown",
   "metadata": {},
   "source": [
    "## Bitwise operators\n",
    "Operazioni sulle rappresentazioni in binario, bit a bit"
   ]
  },
  {
   "cell_type": "markdown",
   "metadata": {},
   "source": [
    "### Logical operators"
   ]
  },
  {
   "cell_type": "code",
   "execution_count": 72,
   "metadata": {},
   "outputs": [
    {
     "name": "stdout",
     "output_type": "stream",
     "text": [
      "Bitwise AND 12\n",
      "Bitwise OR  61\n",
      "Bitwise XOR 49\n",
      "Bitwise NOT(a) is -61\n"
     ]
    }
   ],
   "source": [
    "# Considerarli in binario\n",
    "a = 60           # 60 = 0011 1100 \n",
    "b = 13           # 13 = 0000 1101 \n",
    "\n",
    "c = a & b        # 12 = 0000 1100\n",
    "print(\"Bitwise AND\", c)\n",
    "\n",
    "c = a | b        # 61 = 0011 1101 \n",
    "print(\"Bitwise OR \", c)\n",
    "\n",
    "c = a ^ b        # 49 = 0011 0001\n",
    "print(\"Bitwise XOR\", c) #torna 1 solo quando sono diversi\n",
    "\n",
    "c = ~a           # -61 = 1100 0011\n",
    "print(\"Bitwise NOT(a) is\", c) #inverte tutti i bit"
   ]
  },
  {
   "cell_type": "markdown",
   "metadata": {},
   "source": [
    "### Masks and Shifts\n",
    "Right shift (mette due zeri alla fine) o left shift (taglia due zeri)"
   ]
  },
  {
   "cell_type": "code",
   "execution_count": 75,
   "metadata": {},
   "outputs": [
    {
     "name": "stdout",
     "output_type": "stream",
     "text": [
      "Left shift (towards most significant) of two positions  240\n",
      "Right shift (towards least significant) of two positions  15\n"
     ]
    }
   ],
   "source": [
    "a = 60           # 60 = 0011 1100 \n",
    "\n",
    "c = a << 2       # 240 = 1111 0000\n",
    "print(\"Left shift (towards most significant) of two positions \", c)\n",
    "\n",
    "c = a >> 2       # 15 = 0000 1111\n",
    "print(\"Right shift (towards least significant) of two positions \", c)"
   ]
  },
  {
   "cell_type": "markdown",
   "metadata": {},
   "source": [
    "Link to the python [documentation](https://realpython.com/python-bitwise-operators/)."
   ]
  },
  {
   "cell_type": "markdown",
   "metadata": {},
   "source": [
    "# Floating point numbers\n",
    "\n",
    "I numeri non interi sono rappresentati in single da 32bit e double precision da 64 bit. \n",
    "\n",
    "$x_{float} = (-1)^s \\times 1.f \\times 2^{e-bias}$\n",
    "\n",
    "- s: segno, 0 positivo, 1 negativo\n",
    "- f: mantissa o fractional part, definita come $1.f=1+m_{n-1}2^{-1}+m_{n-2}2^{-2}+..+m_{0}2^{-n}$ con $m=0,1$\n",
    "- e: exponent\n",
    "\n",
    "Il bias e una costante aggiunta per avere i numeri minori di 1, vale sempre $max(e)/2$\n",
    "\n",
    "### Overflow/Underflow\n",
    "- *overflow*: valore assoluto oltre il range massimo, posto infinito\n",
    "- *underflow*: troppo vicini a 0, imposti pari a 0"
   ]
  },
  {
   "cell_type": "markdown",
   "metadata": {},
   "source": [
    "### Single\n",
    "\n",
    "Per i single precision, $0\\le e \\le 255$ and $bias=127$. I 32 bit sono organizzati come \n",
    "\n",
    "|   | *s* | *e* | *f* |\n",
    "|---|---|---|---|\n",
    "| Bit position | 31 | 30-23 | 22-0 |\n",
    "| Bits | 1 | 8 | 23 |"
   ]
  },
  {
   "cell_type": "code",
   "execution_count": 86,
   "metadata": {},
   "outputs": [
    {
     "data": {
      "text/html": [
       "<img src=\"http://www.dspguide.com/graphics/F_4_2.gif\"/>"
      ],
      "text/plain": [
       "<IPython.core.display.Image object>"
      ]
     },
     "execution_count": 86,
     "metadata": {},
     "output_type": "execute_result"
    }
   ],
   "source": [
    "from IPython.display import Image\n",
    "Image(url='http://www.dspguide.com/graphics/F_4_2.gif')"
   ]
  },
  {
   "cell_type": "markdown",
   "metadata": {},
   "source": [
    "Convenzionalmente si definiscono i casi limite\n",
    "\n",
    "|   |  conditions | value |\n",
    "|---|---|---|\n",
    "|  $+\\infty$ | s=0, e=255, f=0 | +INF  |\n",
    "|  $-\\infty$ | s=1, e=255, f=0 | -INF  |\n",
    "|  not a number | e=255, f>0  | NaN  |\n",
    "\n",
    "Il max si ha per $f\\sim 2$ and $e=254$, i.e. $2\\times2^{127}\\sim 3.4\\times10^{38}$.\n",
    "\n",
    "Il range per i float e $1.4\\times 10^{-45} - 3.4\\times 10^{38}$"
   ]
  },
  {
   "cell_type": "markdown",
   "metadata": {},
   "source": [
    "### Double\n",
    "\n",
    "Per i double, $0\\le e \\le 2047$ and $bias=1023$. I bit sono organizzati in\n",
    "\n",
    "|   | *s* | *e* | *f* |\n",
    "|---|---|---|---|\n",
    "| Bit position | 63 | 62-52 | 51-0 |\n",
    "| Bits | 1 | 11 | 52 |\n",
    "\n",
    "Convenzionalmente si definiscono i casi limite\n",
    "\n",
    "|   |  conditions | value |\n",
    "|---|---|---|\n",
    "|  $+\\infty$ | s=0, e=2047, f=0 | +INF  |\n",
    "|  $-\\infty$ | s=1, e=2047, f=0 | -INF  |\n",
    "|  not a number | e=2047, f>0  | NaN  |\n",
    "\n",
    "Il range per i double e $2.2^{-308} - 1.8^{308}$\n",
    "\n",
    "In Python, tutti i numeri sono double. Con float si intendono comunque double precision number"
   ]
  },
  {
   "cell_type": "markdown",
   "metadata": {},
   "source": [
    "### Floating point numbers on your system\n",
    "\n",
    "Per tutte le informazioni sui float in un pc, come range, precisione, digits usare ```sys.float_info```\n",
    "\n",
    "[tutorial page](https://docs.python.org/2/library/sys.html#sys.float_info)"
   ]
  },
  {
   "cell_type": "code",
   "execution_count": 1,
   "metadata": {},
   "outputs": [
    {
     "name": "stdout",
     "output_type": "stream",
     "text": [
      "sys.float_info(max=1.7976931348623157e+308, max_exp=1024, max_10_exp=308, min=2.2250738585072014e-308, min_exp=-1021, min_10_exp=-307, dig=15, mant_dig=53, epsilon=2.220446049250313e-16, radix=2, rounds=1)\n"
     ]
    }
   ],
   "source": [
    "import sys\n",
    "print(sys.float_info)"
   ]
  },
  {
   "cell_type": "markdown",
   "metadata": {},
   "source": [
    "# Accuracy and dangerous calculations with floats\n",
    "L'accuratezza dei float e di 6-7 cifre decimali per i single e 15-16 per i double; questo dipende dai bit riservati per la mantissa. Vedi $\\epsilon$ sopra\n",
    "\n",
    "La precision $\\epsilon$ dei single e double e infatti pari a"
   ]
  },
  {
   "cell_type": "code",
   "execution_count": 52,
   "metadata": {},
   "outputs": [
    {
     "name": "stdout",
     "output_type": "stream",
     "text": [
      "Single precision: 1.1920928955078125e-07\n",
      "Double precision: 1.1102230246251565e-16\n"
     ]
    }
   ],
   "source": [
    "# 23 bits for f in single\n",
    "print(\"Single precision:\", 2**-23)\n",
    "\n",
    "# 53 bits for f in single\n",
    "print(\"Double precision:\", 2**-53)"
   ]
  },
  {
   "cell_type": "markdown",
   "metadata": {},
   "source": [
    "Se imponiamo piu cifre decimali di quelle massime, il numero viene troncato"
   ]
  },
  {
   "cell_type": "code",
   "execution_count": 53,
   "metadata": {},
   "outputs": [
    {
     "name": "stdout",
     "output_type": "stream",
     "text": [
      "7.00000000000001\n",
      "7.000000000000001\n",
      "7.0\n"
     ]
    }
   ],
   "source": [
    "for e in [14, 15, 16]: print (7+1.0*10**-e)"
   ]
  },
  {
   "cell_type": "markdown",
   "metadata": {},
   "source": [
    "Inoltre ricordiamo che numeri periodici in base 10 non e detto che lo siano in binario e viceversa. Ad esempio, $1/10$ in binario e periodico, \n",
    "\n",
    "$1/10=0.0001100110011001100110011001100110011001100110011...$\n",
    "\n",
    "Percio alcuni test booleani (bitwise) `==` tra floating number possono dare risultati sbagliati"
   ]
  },
  {
   "cell_type": "code",
   "execution_count": 15,
   "metadata": {},
   "outputs": [
    {
     "name": "stdout",
     "output_type": "stream",
     "text": [
      "True\n"
     ]
    },
    {
     "data": {
      "text/plain": [
       "False"
      ]
     },
     "execution_count": 15,
     "metadata": {},
     "output_type": "execute_result"
    }
   ],
   "source": [
    "# Python e smart e corregge alcuni casi\n",
    "print (1 / 10 == 0.1)\n",
    "\n",
    "# falso, perche bitwise in binario non e vero\n",
    "0.1 + 0.1 + 0.1 == 0.3"
   ]
  },
  {
   "cell_type": "markdown",
   "metadata": {},
   "source": [
    "$\\rightarrow$ *Mai fare test booleani tra float*\n",
    "\n",
    "Oltre il numero di cifre predisposte, le operazioni sono fuori controllo "
   ]
  },
  {
   "cell_type": "code",
   "execution_count": 69,
   "metadata": {},
   "outputs": [
    {
     "name": "stdout",
     "output_type": "stream",
     "text": [
      "0.100000000000000005551115123126\n",
      "0.0\n"
     ]
    }
   ],
   "source": [
    "print('%.30f' % (0.1)) # stampando troppe cifre, i risultati sono casuali\n",
    "\n",
    "print(1 + 6.022e23 - 6.022e23)"
   ]
  },
  {
   "cell_type": "code",
   "execution_count": 71,
   "metadata": {},
   "outputs": [
    {
     "name": "stdout",
     "output_type": "stream",
     "text": [
      "1.0\n",
      "0.0\n"
     ]
    }
   ],
   "source": [
    "#proprieta associativa non funziona piu\n",
    "print (6.022e23 - 6.022e23 + 1)\n",
    "print (1 + 6.022e23 - 6.022e23)"
   ]
  },
  {
   "cell_type": "code",
   "execution_count": 82,
   "metadata": {},
   "outputs": [
    {
     "data": {
      "text/plain": [
       "False"
      ]
     },
     "execution_count": 82,
     "metadata": {},
     "output_type": "execute_result"
    }
   ],
   "source": [
    "#proprieta distributiva non e perfettamente rispettata bitwise\n",
    "\n",
    "import math\n",
    "a = math.exp(1)\n",
    "b = math.pi\n",
    "c = math.sin(1)\n",
    "a*(b + c) == a*b + a*c"
   ]
  },
  {
   "cell_type": "code",
   "execution_count": 88,
   "metadata": {},
   "outputs": [
    {
     "name": "stdout",
     "output_type": "stream",
     "text": [
      "False\n"
     ]
    }
   ],
   "source": [
    "#identita non funzionano\n",
    "x = 287475839859383374\n",
    "print(x == int(float(x)))"
   ]
  },
  {
   "cell_type": "markdown",
   "metadata": {},
   "source": [
    "## Functions and algorithms: well-conditioned and stable\n",
    "\n",
    "Le funzioni possono soffrire di due classi di problemi derivanti dalla finita precisione\n",
    "\n",
    "#### Function conditioning\n",
    "\n",
    "Una funzione matematica $f(x)$ si dice **well-conditioned** se $f(x+\\epsilon)\\simeq f(x)$ per ogni $\\epsilon$ piccolo.\n",
    "\n",
    "In altre parole, $f(x)$ e well-conditioned se variando poco l'input l'output varia poco (funzione lipshitziana). L'effetto di una perturbazione non cambia troppo il risultato\n",
    "\n",
    "\n",
    "#### Algorithm stability\n",
    "\n",
    "Un computer algorithm $g(x)$ che rappresenta una funzione $f(x)$ e **numerically stable** se $g(x+\\epsilon) \\simeq f(x)$ per ogni $\\epsilon$ piccolo. \n",
    "\n",
    "Un algoritmo **unstable** amplifica gli errori di approssimazione causati dalla precisione. Ad esempio $0.1 + 0.1 + 0.1 \\neq 0.3$ in binario $\\rightarrow f(0.1+0.1+0.1) \\simeq f(0.3)$ se stable, non tiene conto delle piccole approx.\n",
    "\n",
    "\n",
    "In general, we need both a well-conditioned problem and an algorihtm with sufficient numerical stabilty to obtain reliably accurate answers. In this case, we can be sure that $g(x) \\simeq f(x)$.\n",
    "Nella maggior parte dei casi i problemi si risolvono cambiando algoritmo."
   ]
  },
  {
   "cell_type": "markdown",
   "metadata": {},
   "source": [
    "1. Poorly-conditioned function: tangent at $\\pi/2$ change a lot from $\\frac{\\pi}{2}^-$ to $\\frac{\\pi}{2}^+$"
   ]
  },
  {
   "cell_type": "code",
   "execution_count": 97,
   "metadata": {},
   "outputs": [
    {
     "name": "stdout",
     "output_type": "stream",
     "text": [
      "tan(x1) = 61249.00853150303\n",
      "tan(x2) = 158057.9134162482\n",
      "% change in x = 0.0006366263894271296 %\n",
      "% change in tan(x) = 158.05791343536953 %\n"
     ]
    }
   ],
   "source": [
    "import math\n",
    "\n",
    "x1 = 1.57078\n",
    "x2 = 1.57079\n",
    "t1 = math.tan(x1)\n",
    "t2 = math.tan(x2)\n",
    "\n",
    "print ('tan(x1) =', t1)\n",
    "print ('tan(x2) =', t2)\n",
    "print ('% change in x =', 100.0*(x2-x1)/x1, '%')\n",
    "print ('% change in tan(x) =', (100.0*(t2-t1)/t1), '%')"
   ]
  },
  {
   "cell_type": "markdown",
   "metadata": {},
   "source": [
    "2. Numerically unstable algorithm:   plot di    $f(x)=\\frac{1-\\cos(x)}{x^2}=1/2$ vicino a 0"
   ]
  },
  {
   "cell_type": "code",
   "execution_count": 112,
   "metadata": {},
   "outputs": [
    {
     "data": {
      "text/plain": [
       "[<matplotlib.lines.Line2D at 0x1113389a0>]"
      ]
     },
     "execution_count": 112,
     "metadata": {},
     "output_type": "execute_result"
    },
    {
     "data": {
      "image/png": "[encoded data removed]",
      "text/plain": [
       "<Figure size 432x288 with 1 Axes>"
      ]
     },
     "metadata": {
      "needs_background": "light"
     },
     "output_type": "display_data"
    }
   ],
   "source": [
    "#Plottando molto vicino a 0 non funziona\n",
    "\n",
    "import numpy as np\n",
    "import matplotlib.pyplot as plt\n",
    "\n",
    "def f(x):\n",
    "    return (1 - np.cos(x))/(x*x)\n",
    "\n",
    "x = np.linspace(-4e-8, 4e-8, 1000)\n",
    "plt.plot(x, f(x))"
   ]
  },
  {
   "cell_type": "markdown",
   "metadata": {},
   "source": [
    "Numerically stable if we rewrite using $1-\\cos(x)$ = $2 \\sin^2 (\\frac{x}{2})$"
   ]
  },
  {
   "cell_type": "code",
   "execution_count": 114,
   "metadata": {},
   "outputs": [
    {
     "data": {
      "text/plain": [
       "[<matplotlib.lines.Line2D at 0x111410ac0>]"
      ]
     },
     "execution_count": 114,
     "metadata": {},
     "output_type": "execute_result"
    },
    {
     "data": {
      "image/png": "[encoded data removed]",
      "text/plain": [
       "<Figure size 432x288 with 1 Axes>"
      ]
     },
     "metadata": {
      "needs_background": "light"
     },
     "output_type": "display_data"
    }
   ],
   "source": [
    "def f1(x):\n",
    "    return 2*np.sin(x/2)**2/(x*x)\n",
    "\n",
    "x = np.linspace(-4e-8, 4e-8, 1000)\n",
    "plt.plot(x, f1(x))"
   ]
  },
  {
   "cell_type": "markdown",
   "metadata": {},
   "source": [
    "3. Numerically unstable algorithm: stable and unstable variance\n",
    "\n",
    "$s^2 = \\frac{1}{n-1} \\sum (x-\\bar{x})^2$"
   ]
  },
  {
   "cell_type": "code",
   "execution_count": 121,
   "metadata": {},
   "outputs": [
    {
     "name": "stdout",
     "output_type": "stream",
     "text": [
      "Numpy: 0.08345967309602284\n",
      "Direct: 0.08354314275690027\n",
      "Sum of squares: -140878366.72205004\n",
      "Welford's: 0.08284276756677064\n"
     ]
    }
   ],
   "source": [
    "# direct method: squaring occuring after subtraction\n",
    "def direct_var(x):\n",
    "    n = len(x)\n",
    "    xbar = np.mean(x)\n",
    "    return 1.0/(n-1)*np.sum((x - xbar)**2)\n",
    "\n",
    "# sum of squares method (vectorized version): subtraction of two large numbers fail\n",
    "def sum_of_squers_var(x):\n",
    "    n = len(x)\n",
    "    return (1.0/(n*(n-1))*(n*np.sum(x**2) - (np.sum(x))**2))\n",
    "\n",
    "# Welford's method\n",
    "def welford_var(x):\n",
    "    s = 0\n",
    "    m = x[0]\n",
    "    for i in range(1, len(x)):\n",
    "        m += (x[i]-m)/i\n",
    "        s += (x[i]-m)**2\n",
    "    return s/(len(x) - 1)\n",
    "\n",
    "\n",
    "# uniform numbers around 1e12 \n",
    "x_ = np.random.uniform(0, 1, int(1e3))\n",
    "x = 1e12 + x_\n",
    "\n",
    "# comparing the 4 methods\n",
    "print(\"Numpy:\", np.var(x_))\n",
    "print(\"Direct:\", direct_var(x))\n",
    "print(\"Sum of squares:\", sum_of_squers_var(x))\n",
    "print(\"Welford's:\", welford_var(x))"
   ]
  },
  {
   "cell_type": "markdown",
   "metadata": {},
   "source": [
    "4. Unstable algorithm: log-Likelihood $\\mathcal{L} = \\prod_{i=0}^{N} Poisson(x, \\mu)$"
   ]
  },
  {
   "cell_type": "code",
   "execution_count": 130,
   "metadata": {},
   "outputs": [
    {
     "name": "stdout",
     "output_type": "stream",
     "text": [
      "L = 0.0\n",
      "log L = -1008.4932290356714\n"
     ]
    }
   ],
   "source": [
    "# loss of precision can be a problem when calculating Likelihoods\n",
    "probs = np.random.random(1000) # Generating 1000 random numbers between 0 and 1, as if they were probabilities\n",
    "\n",
    "print(\"L =\", np.prod(probs))\n",
    "print(\"log L =\", np.sum(np.log(probs)))"
   ]
  },
  {
   "cell_type": "markdown",
   "metadata": {},
   "source": [
    "#### Summary:\n",
    "\n",
    "- Well-/ill-Conditioned refers to the problem; Stable/Unstable refers to an algorithm or numerical process.\n",
    "- If the problem is well-conditioned then a stable algorithm can be found.\n",
    "- If the problem is ill-conditioned then there is no reliable way to solve it in a stable way.\n",
    "- Mixing roundoff-error with an unstable process is a recipe for disaster.\n",
    "- With exact arithmetic (no roundoff-error), stability is not a concern."
   ]
  }
 ],
 "metadata": {
  "kernelspec": {
   "display_name": "Python 3 (ipykernel)",
   "language": "python",
   "name": "python3"
  },
  "language_info": {
   "codemirror_mode": {
    "name": "ipython",
    "version": 3
   },
   "file_extension": ".py",
   "mimetype": "text/x-python",
   "name": "python",
   "nbconvert_exporter": "python",
   "pygments_lexer": "ipython3",
   "version": "3.10.0"
  }
 },
 "nbformat": 4,
 "nbformat_minor": 2
}
